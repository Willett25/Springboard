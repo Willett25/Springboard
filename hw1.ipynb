{
 "cells": [
  {
   "cell_type": "code",
   "execution_count": 2,
   "metadata": {},
   "outputs": [],
   "source": [
    "import pandas as pd\n",
    "# pd.set_option('max_colwidth', 50)\n",
    "# set this if you need to"
   ]
  },
  {
   "cell_type": "markdown",
   "metadata": {},
   "source": [
    "The Health Department has developed an inspection report and scoring system. \n",
    "After conducting an inspection of the facility, the Health Inspector calculates a score based on the violations observed. \n",
    "Violations can fall into:\n",
    "- **high risk category**: records specific violations that directly relate to the transmission of food borne illnesses,the adulteration of food products and the contamination of food-contact surfaces.\n",
    "- **moderate risk category**: records specific violations that are of a moderate risk to the public health and safety.\n",
    "- **low risk category**: records violations that are low risk or have no immediate risk to the public health and safety."
   ]
  },
  {
   "cell_type": "code",
   "execution_count": 3,
   "metadata": {},
   "outputs": [
    {
     "data": {
      "text/html": [
       "<div>\n",
       "<style scoped>\n",
       "    .dataframe tbody tr th:only-of-type {\n",
       "        vertical-align: middle;\n",
       "    }\n",
       "\n",
       "    .dataframe tbody tr th {\n",
       "        vertical-align: top;\n",
       "    }\n",
       "\n",
       "    .dataframe thead th {\n",
       "        text-align: right;\n",
       "    }\n",
       "</style>\n",
       "<table border=\"1\" class=\"dataframe\">\n",
       "  <thead>\n",
       "    <tr style=\"text-align: right;\">\n",
       "      <th></th>\n",
       "      <th>business_id</th>\n",
       "      <th>name</th>\n",
       "      <th>address</th>\n",
       "      <th>city</th>\n",
       "      <th>postal_code</th>\n",
       "      <th>latitude</th>\n",
       "      <th>longitude</th>\n",
       "      <th>phone_number</th>\n",
       "      <th>TaxCode</th>\n",
       "      <th>business_certificate</th>\n",
       "      <th>application_date</th>\n",
       "      <th>owner_name</th>\n",
       "      <th>owner_address</th>\n",
       "      <th>owner_city</th>\n",
       "      <th>owner_state</th>\n",
       "      <th>owner_zip</th>\n",
       "    </tr>\n",
       "  </thead>\n",
       "  <tbody>\n",
       "    <tr>\n",
       "      <th>0</th>\n",
       "      <td>10</td>\n",
       "      <td>Tiramisu Kitchen</td>\n",
       "      <td>033 Belden Pl</td>\n",
       "      <td>San Francisco</td>\n",
       "      <td>94104</td>\n",
       "      <td>37.791116</td>\n",
       "      <td>-122.403816</td>\n",
       "      <td>NaN</td>\n",
       "      <td>H24</td>\n",
       "      <td>779059.0</td>\n",
       "      <td>NaN</td>\n",
       "      <td>Tiramisu LLC</td>\n",
       "      <td>33 Belden St</td>\n",
       "      <td>San Francisco</td>\n",
       "      <td>CA</td>\n",
       "      <td>94104</td>\n",
       "    </tr>\n",
       "    <tr>\n",
       "      <th>1</th>\n",
       "      <td>19</td>\n",
       "      <td>Nrgize Lifestyle Cafe</td>\n",
       "      <td>1200 Van Ness Ave, 3rd Floor</td>\n",
       "      <td>San Francisco</td>\n",
       "      <td>94109</td>\n",
       "      <td>37.786848</td>\n",
       "      <td>-122.421547</td>\n",
       "      <td>NaN</td>\n",
       "      <td>H24</td>\n",
       "      <td>NaN</td>\n",
       "      <td>NaN</td>\n",
       "      <td>24 Hour Fitness Inc</td>\n",
       "      <td>1200 Van Ness Ave, 3rd Floor</td>\n",
       "      <td>San Francisco</td>\n",
       "      <td>CA</td>\n",
       "      <td>94109</td>\n",
       "    </tr>\n",
       "    <tr>\n",
       "      <th>2</th>\n",
       "      <td>24</td>\n",
       "      <td>OMNI S.F. Hotel - 2nd Floor Pantry</td>\n",
       "      <td>500 California St, 2nd  Floor</td>\n",
       "      <td>San Francisco</td>\n",
       "      <td>94104</td>\n",
       "      <td>37.792888</td>\n",
       "      <td>-122.403135</td>\n",
       "      <td>NaN</td>\n",
       "      <td>H24</td>\n",
       "      <td>352312.0</td>\n",
       "      <td>NaN</td>\n",
       "      <td>OMNI San Francisco Hotel Corp</td>\n",
       "      <td>500 California St, 2nd Floor</td>\n",
       "      <td>San Francisco</td>\n",
       "      <td>CA</td>\n",
       "      <td>94104</td>\n",
       "    </tr>\n",
       "    <tr>\n",
       "      <th>3</th>\n",
       "      <td>31</td>\n",
       "      <td>Norman's Ice Cream and Freezes</td>\n",
       "      <td>2801 Leavenworth St</td>\n",
       "      <td>San Francisco</td>\n",
       "      <td>94133</td>\n",
       "      <td>37.807155</td>\n",
       "      <td>-122.419004</td>\n",
       "      <td>NaN</td>\n",
       "      <td>H24</td>\n",
       "      <td>346882.0</td>\n",
       "      <td>NaN</td>\n",
       "      <td>Norman Antiforda</td>\n",
       "      <td>2801 Leavenworth St</td>\n",
       "      <td>San Francisco</td>\n",
       "      <td>CA</td>\n",
       "      <td>94133</td>\n",
       "    </tr>\n",
       "    <tr>\n",
       "      <th>4</th>\n",
       "      <td>45</td>\n",
       "      <td>CHARLIE'S DELI CAFE</td>\n",
       "      <td>3202 FOLSOM St</td>\n",
       "      <td>S.F.</td>\n",
       "      <td>94110</td>\n",
       "      <td>37.747114</td>\n",
       "      <td>-122.413641</td>\n",
       "      <td>NaN</td>\n",
       "      <td>H24</td>\n",
       "      <td>340024.0</td>\n",
       "      <td>10/10/2001</td>\n",
       "      <td>HARB, CHARLES AND KRISTIN</td>\n",
       "      <td>1150 SANCHEZ</td>\n",
       "      <td>S.F.</td>\n",
       "      <td>CA</td>\n",
       "      <td>94114</td>\n",
       "    </tr>\n",
       "    <tr>\n",
       "      <th>...</th>\n",
       "      <td>...</td>\n",
       "      <td>...</td>\n",
       "      <td>...</td>\n",
       "      <td>...</td>\n",
       "      <td>...</td>\n",
       "      <td>...</td>\n",
       "      <td>...</td>\n",
       "      <td>...</td>\n",
       "      <td>...</td>\n",
       "      <td>...</td>\n",
       "      <td>...</td>\n",
       "      <td>...</td>\n",
       "      <td>...</td>\n",
       "      <td>...</td>\n",
       "      <td>...</td>\n",
       "      <td>...</td>\n",
       "    </tr>\n",
       "    <tr>\n",
       "      <th>7539</th>\n",
       "      <td>87165</td>\n",
       "      <td>The Rainbow</td>\n",
       "      <td>4401 18th St</td>\n",
       "      <td>SF</td>\n",
       "      <td>94114</td>\n",
       "      <td>NaN</td>\n",
       "      <td>NaN</td>\n",
       "      <td>14155822018</td>\n",
       "      <td>H07</td>\n",
       "      <td>NaN</td>\n",
       "      <td>03/30/2016</td>\n",
       "      <td>Samer Jubrail Soudah</td>\n",
       "      <td>403 Hall St.</td>\n",
       "      <td>San Carlos</td>\n",
       "      <td>CA</td>\n",
       "      <td>94070</td>\n",
       "    </tr>\n",
       "    <tr>\n",
       "      <th>7540</th>\n",
       "      <td>87200</td>\n",
       "      <td>Hot Dog Bills</td>\n",
       "      <td>599 Skyline Blvd #1 Lakeside</td>\n",
       "      <td>SF</td>\n",
       "      <td>94132</td>\n",
       "      <td>NaN</td>\n",
       "      <td>NaN</td>\n",
       "      <td>14150874301</td>\n",
       "      <td>H26</td>\n",
       "      <td>NaN</td>\n",
       "      <td>04/01/2016</td>\n",
       "      <td>Hot Dog Bills Inc</td>\n",
       "      <td>675 Santa Barbara Ave.</td>\n",
       "      <td>Millbrae</td>\n",
       "      <td>CA</td>\n",
       "      <td>94031</td>\n",
       "    </tr>\n",
       "    <tr>\n",
       "      <th>7541</th>\n",
       "      <td>87201</td>\n",
       "      <td>Oolong Noodles Restaurant</td>\n",
       "      <td>646 Washington St</td>\n",
       "      <td>NaN</td>\n",
       "      <td>94111</td>\n",
       "      <td>NaN</td>\n",
       "      <td>NaN</td>\n",
       "      <td>NaN</td>\n",
       "      <td>H26</td>\n",
       "      <td>1029660.0</td>\n",
       "      <td>04/01/2016</td>\n",
       "      <td>Hung Dat Lai</td>\n",
       "      <td>2687 Mission Street</td>\n",
       "      <td>San Francisco</td>\n",
       "      <td>CA</td>\n",
       "      <td>94110</td>\n",
       "    </tr>\n",
       "    <tr>\n",
       "      <th>7542</th>\n",
       "      <td>87202</td>\n",
       "      <td>Hot Dog Bills</td>\n",
       "      <td>599 Skyline Blvd #2 Driving Range</td>\n",
       "      <td>SF</td>\n",
       "      <td>94132</td>\n",
       "      <td>NaN</td>\n",
       "      <td>NaN</td>\n",
       "      <td>14150874301</td>\n",
       "      <td>H26</td>\n",
       "      <td>301235.0</td>\n",
       "      <td>04/01/2016</td>\n",
       "      <td>Hot Dog Bills Inc</td>\n",
       "      <td>675 Santa Barbara Ave.</td>\n",
       "      <td>Millbrae</td>\n",
       "      <td>CA</td>\n",
       "      <td>94031</td>\n",
       "    </tr>\n",
       "    <tr>\n",
       "      <th>7543</th>\n",
       "      <td>87213</td>\n",
       "      <td>India Palace Restaurant</td>\n",
       "      <td>1740 Fillmore St</td>\n",
       "      <td>SF</td>\n",
       "      <td>94115</td>\n",
       "      <td>NaN</td>\n",
       "      <td>NaN</td>\n",
       "      <td>14155567789</td>\n",
       "      <td>H25</td>\n",
       "      <td>1027523.0</td>\n",
       "      <td>04/01/2016</td>\n",
       "      <td>Bella Foods Inc</td>\n",
       "      <td>1740 Fillmore St.</td>\n",
       "      <td>SF</td>\n",
       "      <td>CA</td>\n",
       "      <td>94115</td>\n",
       "    </tr>\n",
       "  </tbody>\n",
       "</table>\n",
       "<p>7544 rows × 16 columns</p>\n",
       "</div>"
      ],
      "text/plain": [
       "      business_id                                name  \\\n",
       "0              10                    Tiramisu Kitchen   \n",
       "1              19               Nrgize Lifestyle Cafe   \n",
       "2              24  OMNI S.F. Hotel - 2nd Floor Pantry   \n",
       "3              31      Norman's Ice Cream and Freezes   \n",
       "4              45                 CHARLIE'S DELI CAFE   \n",
       "...           ...                                 ...   \n",
       "7539        87165                         The Rainbow   \n",
       "7540        87200                       Hot Dog Bills   \n",
       "7541        87201           Oolong Noodles Restaurant   \n",
       "7542        87202                       Hot Dog Bills   \n",
       "7543        87213             India Palace Restaurant   \n",
       "\n",
       "                                address           city postal_code   latitude  \\\n",
       "0                         033 Belden Pl  San Francisco       94104  37.791116   \n",
       "1          1200 Van Ness Ave, 3rd Floor  San Francisco       94109  37.786848   \n",
       "2         500 California St, 2nd  Floor  San Francisco       94104  37.792888   \n",
       "3                  2801 Leavenworth St   San Francisco       94133  37.807155   \n",
       "4                       3202 FOLSOM St            S.F.       94110  37.747114   \n",
       "...                                 ...            ...         ...        ...   \n",
       "7539                      4401 18th St              SF       94114        NaN   \n",
       "7540       599 Skyline Blvd #1 Lakeside             SF       94132        NaN   \n",
       "7541                 646 Washington St             NaN       94111        NaN   \n",
       "7542  599 Skyline Blvd #2 Driving Range             SF       94132        NaN   \n",
       "7543                  1740 Fillmore St              SF       94115        NaN   \n",
       "\n",
       "       longitude phone_number TaxCode  business_certificate application_date  \\\n",
       "0    -122.403816          NaN     H24              779059.0              NaN   \n",
       "1    -122.421547          NaN     H24                   NaN              NaN   \n",
       "2    -122.403135          NaN     H24              352312.0              NaN   \n",
       "3    -122.419004          NaN     H24              346882.0              NaN   \n",
       "4    -122.413641          NaN     H24              340024.0       10/10/2001   \n",
       "...          ...          ...     ...                   ...              ...   \n",
       "7539         NaN  14155822018     H07                   NaN       03/30/2016   \n",
       "7540         NaN  14150874301     H26                   NaN       04/01/2016   \n",
       "7541         NaN          NaN     H26             1029660.0       04/01/2016   \n",
       "7542         NaN  14150874301     H26              301235.0       04/01/2016   \n",
       "7543         NaN  14155567789     H25             1027523.0       04/01/2016   \n",
       "\n",
       "                         owner_name                 owner_address  \\\n",
       "0                      Tiramisu LLC                  33 Belden St   \n",
       "1               24 Hour Fitness Inc  1200 Van Ness Ave, 3rd Floor   \n",
       "2     OMNI San Francisco Hotel Corp  500 California St, 2nd Floor   \n",
       "3                  Norman Antiforda           2801 Leavenworth St   \n",
       "4         HARB, CHARLES AND KRISTIN                  1150 SANCHEZ   \n",
       "...                             ...                           ...   \n",
       "7539           Samer Jubrail Soudah                  403 Hall St.   \n",
       "7540              Hot Dog Bills Inc        675 Santa Barbara Ave.   \n",
       "7541                   Hung Dat Lai           2687 Mission Street   \n",
       "7542              Hot Dog Bills Inc        675 Santa Barbara Ave.   \n",
       "7543                Bella Foods Inc             1740 Fillmore St.   \n",
       "\n",
       "         owner_city owner_state owner_zip  \n",
       "0     San Francisco          CA     94104  \n",
       "1     San Francisco          CA     94109  \n",
       "2     San Francisco          CA     94104  \n",
       "3     San Francisco          CA     94133  \n",
       "4              S.F.          CA     94114  \n",
       "...             ...         ...       ...  \n",
       "7539     San Carlos          CA     94070  \n",
       "7540       Millbrae          CA     94031  \n",
       "7541  San Francisco          CA     94110  \n",
       "7542       Millbrae          CA     94031  \n",
       "7543             SF          CA     94115  \n",
       "\n",
       "[7544 rows x 16 columns]"
      ]
     },
     "execution_count": 3,
     "metadata": {},
     "output_type": "execute_result"
    }
   ],
   "source": [
    "businesses = pd.read_csv('businesses_plus.csv', parse_dates=True, dtype={'phone_number': str})\n",
    "businesses\n",
    "# dtype casts the column as a specific data type"
   ]
  },
  {
   "cell_type": "code",
   "execution_count": 4,
   "metadata": {},
   "outputs": [
    {
     "data": {
      "text/html": [
       "<div>\n",
       "<style scoped>\n",
       "    .dataframe tbody tr th:only-of-type {\n",
       "        vertical-align: middle;\n",
       "    }\n",
       "\n",
       "    .dataframe tbody tr th {\n",
       "        vertical-align: top;\n",
       "    }\n",
       "\n",
       "    .dataframe thead th {\n",
       "        text-align: right;\n",
       "    }\n",
       "</style>\n",
       "<table border=\"1\" class=\"dataframe\">\n",
       "  <thead>\n",
       "    <tr style=\"text-align: right;\">\n",
       "      <th></th>\n",
       "      <th>business_id</th>\n",
       "      <th>Score</th>\n",
       "      <th>date</th>\n",
       "      <th>type</th>\n",
       "    </tr>\n",
       "  </thead>\n",
       "  <tbody>\n",
       "    <tr>\n",
       "      <th>0</th>\n",
       "      <td>10</td>\n",
       "      <td>NaN</td>\n",
       "      <td>20140807</td>\n",
       "      <td>Reinspection/Followup</td>\n",
       "    </tr>\n",
       "    <tr>\n",
       "      <th>1</th>\n",
       "      <td>10</td>\n",
       "      <td>94.0</td>\n",
       "      <td>20140729</td>\n",
       "      <td>Routine - Unscheduled</td>\n",
       "    </tr>\n",
       "    <tr>\n",
       "      <th>2</th>\n",
       "      <td>10</td>\n",
       "      <td>NaN</td>\n",
       "      <td>20140124</td>\n",
       "      <td>Reinspection/Followup</td>\n",
       "    </tr>\n",
       "    <tr>\n",
       "      <th>3</th>\n",
       "      <td>10</td>\n",
       "      <td>92.0</td>\n",
       "      <td>20140114</td>\n",
       "      <td>Routine - Unscheduled</td>\n",
       "    </tr>\n",
       "    <tr>\n",
       "      <th>4</th>\n",
       "      <td>19</td>\n",
       "      <td>94.0</td>\n",
       "      <td>20141110</td>\n",
       "      <td>Routine - Unscheduled</td>\n",
       "    </tr>\n",
       "    <tr>\n",
       "      <th>...</th>\n",
       "      <td>...</td>\n",
       "      <td>...</td>\n",
       "      <td>...</td>\n",
       "      <td>...</td>\n",
       "    </tr>\n",
       "    <tr>\n",
       "      <th>27280</th>\n",
       "      <td>86990</td>\n",
       "      <td>NaN</td>\n",
       "      <td>20160318</td>\n",
       "      <td>New Ownership</td>\n",
       "    </tr>\n",
       "    <tr>\n",
       "      <th>27281</th>\n",
       "      <td>87021</td>\n",
       "      <td>NaN</td>\n",
       "      <td>20160331</td>\n",
       "      <td>New Construction</td>\n",
       "    </tr>\n",
       "    <tr>\n",
       "      <th>27282</th>\n",
       "      <td>87121</td>\n",
       "      <td>NaN</td>\n",
       "      <td>20160330</td>\n",
       "      <td>New Ownership</td>\n",
       "    </tr>\n",
       "    <tr>\n",
       "      <th>27283</th>\n",
       "      <td>87122</td>\n",
       "      <td>NaN</td>\n",
       "      <td>20160401</td>\n",
       "      <td>New Ownership</td>\n",
       "    </tr>\n",
       "    <tr>\n",
       "      <th>27284</th>\n",
       "      <td>87122</td>\n",
       "      <td>100.0</td>\n",
       "      <td>20160401</td>\n",
       "      <td>Routine - Unscheduled</td>\n",
       "    </tr>\n",
       "  </tbody>\n",
       "</table>\n",
       "<p>27285 rows × 4 columns</p>\n",
       "</div>"
      ],
      "text/plain": [
       "       business_id  Score      date                   type\n",
       "0               10    NaN  20140807  Reinspection/Followup\n",
       "1               10   94.0  20140729  Routine - Unscheduled\n",
       "2               10    NaN  20140124  Reinspection/Followup\n",
       "3               10   92.0  20140114  Routine - Unscheduled\n",
       "4               19   94.0  20141110  Routine - Unscheduled\n",
       "...            ...    ...       ...                    ...\n",
       "27280        86990    NaN  20160318          New Ownership\n",
       "27281        87021    NaN  20160331       New Construction\n",
       "27282        87121    NaN  20160330          New Ownership\n",
       "27283        87122    NaN  20160401          New Ownership\n",
       "27284        87122  100.0  20160401  Routine - Unscheduled\n",
       "\n",
       "[27285 rows x 4 columns]"
      ]
     },
     "execution_count": 4,
     "metadata": {},
     "output_type": "execute_result"
    }
   ],
   "source": [
    "inspections = pd.read_csv('inspections_plus.csv', parse_dates=True)\n",
    "inspections"
   ]
  },
  {
   "cell_type": "code",
   "execution_count": 5,
   "metadata": {},
   "outputs": [
    {
     "data": {
      "text/html": [
       "<div>\n",
       "<style scoped>\n",
       "    .dataframe tbody tr th:only-of-type {\n",
       "        vertical-align: middle;\n",
       "    }\n",
       "\n",
       "    .dataframe tbody tr th {\n",
       "        vertical-align: top;\n",
       "    }\n",
       "\n",
       "    .dataframe thead th {\n",
       "        text-align: right;\n",
       "    }\n",
       "</style>\n",
       "<table border=\"1\" class=\"dataframe\">\n",
       "  <thead>\n",
       "    <tr style=\"text-align: right;\">\n",
       "      <th></th>\n",
       "      <th>business_id</th>\n",
       "      <th>date</th>\n",
       "      <th>ViolationTypeID</th>\n",
       "      <th>risk_category</th>\n",
       "      <th>description</th>\n",
       "    </tr>\n",
       "  </thead>\n",
       "  <tbody>\n",
       "    <tr>\n",
       "      <th>0</th>\n",
       "      <td>10</td>\n",
       "      <td>20140114</td>\n",
       "      <td>103154</td>\n",
       "      <td>Low Risk</td>\n",
       "      <td>Unclean or degraded floors walls or ceilings</td>\n",
       "    </tr>\n",
       "    <tr>\n",
       "      <th>1</th>\n",
       "      <td>10</td>\n",
       "      <td>20140114</td>\n",
       "      <td>103119</td>\n",
       "      <td>Moderate Risk</td>\n",
       "      <td>Inadequate and inaccessible handwashing facili...</td>\n",
       "    </tr>\n",
       "    <tr>\n",
       "      <th>2</th>\n",
       "      <td>10</td>\n",
       "      <td>20140114</td>\n",
       "      <td>103145</td>\n",
       "      <td>Low Risk</td>\n",
       "      <td>Improper storage of equipment utensils or linens</td>\n",
       "    </tr>\n",
       "    <tr>\n",
       "      <th>3</th>\n",
       "      <td>10</td>\n",
       "      <td>20140729</td>\n",
       "      <td>103129</td>\n",
       "      <td>Moderate Risk</td>\n",
       "      <td>Insufficient hot water or running water</td>\n",
       "    </tr>\n",
       "    <tr>\n",
       "      <th>4</th>\n",
       "      <td>10</td>\n",
       "      <td>20140729</td>\n",
       "      <td>103144</td>\n",
       "      <td>Low Risk</td>\n",
       "      <td>Unapproved or unmaintained equipment or utensils</td>\n",
       "    </tr>\n",
       "    <tr>\n",
       "      <th>...</th>\n",
       "      <td>...</td>\n",
       "      <td>...</td>\n",
       "      <td>...</td>\n",
       "      <td>...</td>\n",
       "      <td>...</td>\n",
       "    </tr>\n",
       "    <tr>\n",
       "      <th>39715</th>\n",
       "      <td>86774</td>\n",
       "      <td>20160321</td>\n",
       "      <td>103139</td>\n",
       "      <td>Low Risk</td>\n",
       "      <td>Improper food storage</td>\n",
       "    </tr>\n",
       "    <tr>\n",
       "      <th>39716</th>\n",
       "      <td>86845</td>\n",
       "      <td>20160329</td>\n",
       "      <td>103124</td>\n",
       "      <td>Moderate Risk</td>\n",
       "      <td>Inadequately cleaned or sanitized food contact...</td>\n",
       "    </tr>\n",
       "    <tr>\n",
       "      <th>39717</th>\n",
       "      <td>86845</td>\n",
       "      <td>20160329</td>\n",
       "      <td>103139</td>\n",
       "      <td>Low Risk</td>\n",
       "      <td>Improper food storage</td>\n",
       "    </tr>\n",
       "    <tr>\n",
       "      <th>39718</th>\n",
       "      <td>86845</td>\n",
       "      <td>20160329</td>\n",
       "      <td>103144</td>\n",
       "      <td>Low Risk</td>\n",
       "      <td>Unapproved or unmaintained equipment or utensils</td>\n",
       "    </tr>\n",
       "    <tr>\n",
       "      <th>39719</th>\n",
       "      <td>86845</td>\n",
       "      <td>20160329</td>\n",
       "      <td>103151</td>\n",
       "      <td>Low Risk</td>\n",
       "      <td>Inadequate or unsanitary refuse containers or ...</td>\n",
       "    </tr>\n",
       "  </tbody>\n",
       "</table>\n",
       "<p>39720 rows × 5 columns</p>\n",
       "</div>"
      ],
      "text/plain": [
       "       business_id      date  ViolationTypeID  risk_category  \\\n",
       "0               10  20140114           103154       Low Risk   \n",
       "1               10  20140114           103119  Moderate Risk   \n",
       "2               10  20140114           103145       Low Risk   \n",
       "3               10  20140729           103129  Moderate Risk   \n",
       "4               10  20140729           103144       Low Risk   \n",
       "...            ...       ...              ...            ...   \n",
       "39715        86774  20160321           103139       Low Risk   \n",
       "39716        86845  20160329           103124  Moderate Risk   \n",
       "39717        86845  20160329           103139       Low Risk   \n",
       "39718        86845  20160329           103144       Low Risk   \n",
       "39719        86845  20160329           103151       Low Risk   \n",
       "\n",
       "                                             description  \n",
       "0           Unclean or degraded floors walls or ceilings  \n",
       "1      Inadequate and inaccessible handwashing facili...  \n",
       "2       Improper storage of equipment utensils or linens  \n",
       "3                Insufficient hot water or running water  \n",
       "4       Unapproved or unmaintained equipment or utensils  \n",
       "...                                                  ...  \n",
       "39715                              Improper food storage  \n",
       "39716  Inadequately cleaned or sanitized food contact...  \n",
       "39717                              Improper food storage  \n",
       "39718   Unapproved or unmaintained equipment or utensils  \n",
       "39719  Inadequate or unsanitary refuse containers or ...  \n",
       "\n",
       "[39720 rows x 5 columns]"
      ]
     },
     "execution_count": 5,
     "metadata": {},
     "output_type": "execute_result"
    }
   ],
   "source": [
    "violations = pd.read_csv('violations_plus.csv', parse_dates=True)\n",
    "violations"
   ]
  },
  {
   "cell_type": "code",
   "execution_count": 6,
   "metadata": {},
   "outputs": [
    {
     "data": {
      "text/html": [
       "<div>\n",
       "<style scoped>\n",
       "    .dataframe tbody tr th:only-of-type {\n",
       "        vertical-align: middle;\n",
       "    }\n",
       "\n",
       "    .dataframe tbody tr th {\n",
       "        vertical-align: top;\n",
       "    }\n",
       "\n",
       "    .dataframe thead th {\n",
       "        text-align: right;\n",
       "    }\n",
       "</style>\n",
       "<table border=\"1\" class=\"dataframe\">\n",
       "  <thead>\n",
       "    <tr style=\"text-align: right;\">\n",
       "      <th></th>\n",
       "      <th>business_id</th>\n",
       "      <th>date</th>\n",
       "      <th>ViolationTypeID</th>\n",
       "      <th>risk_category</th>\n",
       "      <th>description</th>\n",
       "      <th>Score</th>\n",
       "      <th>type</th>\n",
       "      <th>name</th>\n",
       "      <th>address</th>\n",
       "      <th>city</th>\n",
       "      <th>...</th>\n",
       "      <th>longitude</th>\n",
       "      <th>phone_number</th>\n",
       "      <th>TaxCode</th>\n",
       "      <th>business_certificate</th>\n",
       "      <th>application_date</th>\n",
       "      <th>owner_name</th>\n",
       "      <th>owner_address</th>\n",
       "      <th>owner_city</th>\n",
       "      <th>owner_state</th>\n",
       "      <th>owner_zip</th>\n",
       "    </tr>\n",
       "  </thead>\n",
       "  <tbody>\n",
       "    <tr>\n",
       "      <th>0</th>\n",
       "      <td>10</td>\n",
       "      <td>20140114</td>\n",
       "      <td>103154</td>\n",
       "      <td>Low Risk</td>\n",
       "      <td>Unclean or degraded floors walls or ceilings</td>\n",
       "      <td>92.0</td>\n",
       "      <td>Routine - Unscheduled</td>\n",
       "      <td>Tiramisu Kitchen</td>\n",
       "      <td>033 Belden Pl</td>\n",
       "      <td>San Francisco</td>\n",
       "      <td>...</td>\n",
       "      <td>-122.403816</td>\n",
       "      <td>NaN</td>\n",
       "      <td>H24</td>\n",
       "      <td>779059.0</td>\n",
       "      <td>NaN</td>\n",
       "      <td>Tiramisu LLC</td>\n",
       "      <td>33 Belden St</td>\n",
       "      <td>San Francisco</td>\n",
       "      <td>CA</td>\n",
       "      <td>94104</td>\n",
       "    </tr>\n",
       "    <tr>\n",
       "      <th>1</th>\n",
       "      <td>10</td>\n",
       "      <td>20140114</td>\n",
       "      <td>103119</td>\n",
       "      <td>Moderate Risk</td>\n",
       "      <td>Inadequate and inaccessible handwashing facili...</td>\n",
       "      <td>92.0</td>\n",
       "      <td>Routine - Unscheduled</td>\n",
       "      <td>Tiramisu Kitchen</td>\n",
       "      <td>033 Belden Pl</td>\n",
       "      <td>San Francisco</td>\n",
       "      <td>...</td>\n",
       "      <td>-122.403816</td>\n",
       "      <td>NaN</td>\n",
       "      <td>H24</td>\n",
       "      <td>779059.0</td>\n",
       "      <td>NaN</td>\n",
       "      <td>Tiramisu LLC</td>\n",
       "      <td>33 Belden St</td>\n",
       "      <td>San Francisco</td>\n",
       "      <td>CA</td>\n",
       "      <td>94104</td>\n",
       "    </tr>\n",
       "    <tr>\n",
       "      <th>2</th>\n",
       "      <td>10</td>\n",
       "      <td>20140114</td>\n",
       "      <td>103145</td>\n",
       "      <td>Low Risk</td>\n",
       "      <td>Improper storage of equipment utensils or linens</td>\n",
       "      <td>92.0</td>\n",
       "      <td>Routine - Unscheduled</td>\n",
       "      <td>Tiramisu Kitchen</td>\n",
       "      <td>033 Belden Pl</td>\n",
       "      <td>San Francisco</td>\n",
       "      <td>...</td>\n",
       "      <td>-122.403816</td>\n",
       "      <td>NaN</td>\n",
       "      <td>H24</td>\n",
       "      <td>779059.0</td>\n",
       "      <td>NaN</td>\n",
       "      <td>Tiramisu LLC</td>\n",
       "      <td>33 Belden St</td>\n",
       "      <td>San Francisco</td>\n",
       "      <td>CA</td>\n",
       "      <td>94104</td>\n",
       "    </tr>\n",
       "    <tr>\n",
       "      <th>3</th>\n",
       "      <td>10</td>\n",
       "      <td>20140729</td>\n",
       "      <td>103129</td>\n",
       "      <td>Moderate Risk</td>\n",
       "      <td>Insufficient hot water or running water</td>\n",
       "      <td>94.0</td>\n",
       "      <td>Routine - Unscheduled</td>\n",
       "      <td>Tiramisu Kitchen</td>\n",
       "      <td>033 Belden Pl</td>\n",
       "      <td>San Francisco</td>\n",
       "      <td>...</td>\n",
       "      <td>-122.403816</td>\n",
       "      <td>NaN</td>\n",
       "      <td>H24</td>\n",
       "      <td>779059.0</td>\n",
       "      <td>NaN</td>\n",
       "      <td>Tiramisu LLC</td>\n",
       "      <td>33 Belden St</td>\n",
       "      <td>San Francisco</td>\n",
       "      <td>CA</td>\n",
       "      <td>94104</td>\n",
       "    </tr>\n",
       "    <tr>\n",
       "      <th>4</th>\n",
       "      <td>10</td>\n",
       "      <td>20140729</td>\n",
       "      <td>103144</td>\n",
       "      <td>Low Risk</td>\n",
       "      <td>Unapproved or unmaintained equipment or utensils</td>\n",
       "      <td>94.0</td>\n",
       "      <td>Routine - Unscheduled</td>\n",
       "      <td>Tiramisu Kitchen</td>\n",
       "      <td>033 Belden Pl</td>\n",
       "      <td>San Francisco</td>\n",
       "      <td>...</td>\n",
       "      <td>-122.403816</td>\n",
       "      <td>NaN</td>\n",
       "      <td>H24</td>\n",
       "      <td>779059.0</td>\n",
       "      <td>NaN</td>\n",
       "      <td>Tiramisu LLC</td>\n",
       "      <td>33 Belden St</td>\n",
       "      <td>San Francisco</td>\n",
       "      <td>CA</td>\n",
       "      <td>94104</td>\n",
       "    </tr>\n",
       "    <tr>\n",
       "      <th>...</th>\n",
       "      <td>...</td>\n",
       "      <td>...</td>\n",
       "      <td>...</td>\n",
       "      <td>...</td>\n",
       "      <td>...</td>\n",
       "      <td>...</td>\n",
       "      <td>...</td>\n",
       "      <td>...</td>\n",
       "      <td>...</td>\n",
       "      <td>...</td>\n",
       "      <td>...</td>\n",
       "      <td>...</td>\n",
       "      <td>...</td>\n",
       "      <td>...</td>\n",
       "      <td>...</td>\n",
       "      <td>...</td>\n",
       "      <td>...</td>\n",
       "      <td>...</td>\n",
       "      <td>...</td>\n",
       "      <td>...</td>\n",
       "      <td>...</td>\n",
       "    </tr>\n",
       "    <tr>\n",
       "      <th>43748</th>\n",
       "      <td>86845</td>\n",
       "      <td>20160329</td>\n",
       "      <td>103139</td>\n",
       "      <td>Low Risk</td>\n",
       "      <td>Improper food storage</td>\n",
       "      <td>NaN</td>\n",
       "      <td>New Ownership</td>\n",
       "      <td>Yonkers Cafe Inc</td>\n",
       "      <td>3815 Noriega St</td>\n",
       "      <td>SF</td>\n",
       "      <td>...</td>\n",
       "      <td>NaN</td>\n",
       "      <td>14155930675</td>\n",
       "      <td>H24</td>\n",
       "      <td>NaN</td>\n",
       "      <td>03/08/2016</td>\n",
       "      <td>Yonkers Café Inc</td>\n",
       "      <td>3815 Noreiga St.</td>\n",
       "      <td>SF</td>\n",
       "      <td>CA</td>\n",
       "      <td>94122</td>\n",
       "    </tr>\n",
       "    <tr>\n",
       "      <th>43749</th>\n",
       "      <td>86845</td>\n",
       "      <td>20160329</td>\n",
       "      <td>103144</td>\n",
       "      <td>Low Risk</td>\n",
       "      <td>Unapproved or unmaintained equipment or utensils</td>\n",
       "      <td>90.0</td>\n",
       "      <td>Routine - Unscheduled</td>\n",
       "      <td>Yonkers Cafe Inc</td>\n",
       "      <td>3815 Noriega St</td>\n",
       "      <td>SF</td>\n",
       "      <td>...</td>\n",
       "      <td>NaN</td>\n",
       "      <td>14155930675</td>\n",
       "      <td>H24</td>\n",
       "      <td>NaN</td>\n",
       "      <td>03/08/2016</td>\n",
       "      <td>Yonkers Café Inc</td>\n",
       "      <td>3815 Noreiga St.</td>\n",
       "      <td>SF</td>\n",
       "      <td>CA</td>\n",
       "      <td>94122</td>\n",
       "    </tr>\n",
       "    <tr>\n",
       "      <th>43750</th>\n",
       "      <td>86845</td>\n",
       "      <td>20160329</td>\n",
       "      <td>103144</td>\n",
       "      <td>Low Risk</td>\n",
       "      <td>Unapproved or unmaintained equipment or utensils</td>\n",
       "      <td>NaN</td>\n",
       "      <td>New Ownership</td>\n",
       "      <td>Yonkers Cafe Inc</td>\n",
       "      <td>3815 Noriega St</td>\n",
       "      <td>SF</td>\n",
       "      <td>...</td>\n",
       "      <td>NaN</td>\n",
       "      <td>14155930675</td>\n",
       "      <td>H24</td>\n",
       "      <td>NaN</td>\n",
       "      <td>03/08/2016</td>\n",
       "      <td>Yonkers Café Inc</td>\n",
       "      <td>3815 Noreiga St.</td>\n",
       "      <td>SF</td>\n",
       "      <td>CA</td>\n",
       "      <td>94122</td>\n",
       "    </tr>\n",
       "    <tr>\n",
       "      <th>43751</th>\n",
       "      <td>86845</td>\n",
       "      <td>20160329</td>\n",
       "      <td>103151</td>\n",
       "      <td>Low Risk</td>\n",
       "      <td>Inadequate or unsanitary refuse containers or ...</td>\n",
       "      <td>90.0</td>\n",
       "      <td>Routine - Unscheduled</td>\n",
       "      <td>Yonkers Cafe Inc</td>\n",
       "      <td>3815 Noriega St</td>\n",
       "      <td>SF</td>\n",
       "      <td>...</td>\n",
       "      <td>NaN</td>\n",
       "      <td>14155930675</td>\n",
       "      <td>H24</td>\n",
       "      <td>NaN</td>\n",
       "      <td>03/08/2016</td>\n",
       "      <td>Yonkers Café Inc</td>\n",
       "      <td>3815 Noreiga St.</td>\n",
       "      <td>SF</td>\n",
       "      <td>CA</td>\n",
       "      <td>94122</td>\n",
       "    </tr>\n",
       "    <tr>\n",
       "      <th>43752</th>\n",
       "      <td>86845</td>\n",
       "      <td>20160329</td>\n",
       "      <td>103151</td>\n",
       "      <td>Low Risk</td>\n",
       "      <td>Inadequate or unsanitary refuse containers or ...</td>\n",
       "      <td>NaN</td>\n",
       "      <td>New Ownership</td>\n",
       "      <td>Yonkers Cafe Inc</td>\n",
       "      <td>3815 Noriega St</td>\n",
       "      <td>SF</td>\n",
       "      <td>...</td>\n",
       "      <td>NaN</td>\n",
       "      <td>14155930675</td>\n",
       "      <td>H24</td>\n",
       "      <td>NaN</td>\n",
       "      <td>03/08/2016</td>\n",
       "      <td>Yonkers Café Inc</td>\n",
       "      <td>3815 Noreiga St.</td>\n",
       "      <td>SF</td>\n",
       "      <td>CA</td>\n",
       "      <td>94122</td>\n",
       "    </tr>\n",
       "  </tbody>\n",
       "</table>\n",
       "<p>43753 rows × 22 columns</p>\n",
       "</div>"
      ],
      "text/plain": [
       "       business_id      date  ViolationTypeID  risk_category  \\\n",
       "0               10  20140114           103154       Low Risk   \n",
       "1               10  20140114           103119  Moderate Risk   \n",
       "2               10  20140114           103145       Low Risk   \n",
       "3               10  20140729           103129  Moderate Risk   \n",
       "4               10  20140729           103144       Low Risk   \n",
       "...            ...       ...              ...            ...   \n",
       "43748        86845  20160329           103139       Low Risk   \n",
       "43749        86845  20160329           103144       Low Risk   \n",
       "43750        86845  20160329           103144       Low Risk   \n",
       "43751        86845  20160329           103151       Low Risk   \n",
       "43752        86845  20160329           103151       Low Risk   \n",
       "\n",
       "                                             description  Score  \\\n",
       "0           Unclean or degraded floors walls or ceilings   92.0   \n",
       "1      Inadequate and inaccessible handwashing facili...   92.0   \n",
       "2       Improper storage of equipment utensils or linens   92.0   \n",
       "3                Insufficient hot water or running water   94.0   \n",
       "4       Unapproved or unmaintained equipment or utensils   94.0   \n",
       "...                                                  ...    ...   \n",
       "43748                              Improper food storage    NaN   \n",
       "43749   Unapproved or unmaintained equipment or utensils   90.0   \n",
       "43750   Unapproved or unmaintained equipment or utensils    NaN   \n",
       "43751  Inadequate or unsanitary refuse containers or ...   90.0   \n",
       "43752  Inadequate or unsanitary refuse containers or ...    NaN   \n",
       "\n",
       "                        type              name           address  \\\n",
       "0      Routine - Unscheduled  Tiramisu Kitchen     033 Belden Pl   \n",
       "1      Routine - Unscheduled  Tiramisu Kitchen     033 Belden Pl   \n",
       "2      Routine - Unscheduled  Tiramisu Kitchen     033 Belden Pl   \n",
       "3      Routine - Unscheduled  Tiramisu Kitchen     033 Belden Pl   \n",
       "4      Routine - Unscheduled  Tiramisu Kitchen     033 Belden Pl   \n",
       "...                      ...               ...               ...   \n",
       "43748          New Ownership  Yonkers Cafe Inc  3815 Noriega St    \n",
       "43749  Routine - Unscheduled  Yonkers Cafe Inc  3815 Noriega St    \n",
       "43750          New Ownership  Yonkers Cafe Inc  3815 Noriega St    \n",
       "43751  Routine - Unscheduled  Yonkers Cafe Inc  3815 Noriega St    \n",
       "43752          New Ownership  Yonkers Cafe Inc  3815 Noriega St    \n",
       "\n",
       "                city  ...   longitude  phone_number  TaxCode  \\\n",
       "0      San Francisco  ... -122.403816           NaN      H24   \n",
       "1      San Francisco  ... -122.403816           NaN      H24   \n",
       "2      San Francisco  ... -122.403816           NaN      H24   \n",
       "3      San Francisco  ... -122.403816           NaN      H24   \n",
       "4      San Francisco  ... -122.403816           NaN      H24   \n",
       "...              ...  ...         ...           ...      ...   \n",
       "43748             SF  ...         NaN   14155930675      H24   \n",
       "43749             SF  ...         NaN   14155930675      H24   \n",
       "43750             SF  ...         NaN   14155930675      H24   \n",
       "43751             SF  ...         NaN   14155930675      H24   \n",
       "43752             SF  ...         NaN   14155930675      H24   \n",
       "\n",
       "      business_certificate application_date        owner_name  \\\n",
       "0                 779059.0              NaN      Tiramisu LLC   \n",
       "1                 779059.0              NaN      Tiramisu LLC   \n",
       "2                 779059.0              NaN      Tiramisu LLC   \n",
       "3                 779059.0              NaN      Tiramisu LLC   \n",
       "4                 779059.0              NaN      Tiramisu LLC   \n",
       "...                    ...              ...               ...   \n",
       "43748                  NaN       03/08/2016  Yonkers Café Inc   \n",
       "43749                  NaN       03/08/2016  Yonkers Café Inc   \n",
       "43750                  NaN       03/08/2016  Yonkers Café Inc   \n",
       "43751                  NaN       03/08/2016  Yonkers Café Inc   \n",
       "43752                  NaN       03/08/2016  Yonkers Café Inc   \n",
       "\n",
       "          owner_address     owner_city owner_state owner_zip  \n",
       "0          33 Belden St  San Francisco          CA     94104  \n",
       "1          33 Belden St  San Francisco          CA     94104  \n",
       "2          33 Belden St  San Francisco          CA     94104  \n",
       "3          33 Belden St  San Francisco          CA     94104  \n",
       "4          33 Belden St  San Francisco          CA     94104  \n",
       "...                 ...            ...         ...       ...  \n",
       "43748  3815 Noreiga St.             SF          CA     94122  \n",
       "43749  3815 Noreiga St.             SF          CA     94122  \n",
       "43750  3815 Noreiga St.             SF          CA     94122  \n",
       "43751  3815 Noreiga St.             SF          CA     94122  \n",
       "43752  3815 Noreiga St.             SF          CA     94122  \n",
       "\n",
       "[43753 rows x 22 columns]"
      ]
     },
     "execution_count": 6,
     "metadata": {},
     "output_type": "execute_result"
    }
   ],
   "source": [
    "# 1 Combine the three dataframes into one data frame called restaurant_scores\n",
    "# Hint: http://pandas.pydata.org/pandas-docs/stable/merging.html\n",
    "violations_inspections = violations.merge(inspections, on=['date','business_id'])\n",
    "restaurant_scores = violations_inspections.merge(businesses, on='business_id')\n",
    "restaurant_scores\n"
   ]
  },
  {
   "cell_type": "code",
   "execution_count": 7,
   "metadata": {},
   "outputs": [
    {
     "data": {
      "text/plain": [
       "business_id\n",
       "1775           21\n",
       "74374          20\n",
       "2505           20\n",
       "67154          19\n",
       "74131          19\n",
       "71618          19\n",
       "71804          19\n",
       "7747           18\n",
       "489            18\n",
       "4803           17\n",
       "dtype: int64"
      ]
     },
     "execution_count": 7,
     "metadata": {},
     "output_type": "execute_result"
    }
   ],
   "source": [
    "# 2 Which ten business have had the most inspections?\n",
    "inspections.value_counts(['business_id']).head(10)\n"
   ]
  },
  {
   "cell_type": "code",
   "execution_count": 8,
   "metadata": {},
   "outputs": [
    {
     "data": {
      "text/html": [
       "<div>\n",
       "<style scoped>\n",
       "    .dataframe tbody tr th:only-of-type {\n",
       "        vertical-align: middle;\n",
       "    }\n",
       "\n",
       "    .dataframe tbody tr th {\n",
       "        vertical-align: top;\n",
       "    }\n",
       "\n",
       "    .dataframe thead th {\n",
       "        text-align: right;\n",
       "    }\n",
       "</style>\n",
       "<table border=\"1\" class=\"dataframe\">\n",
       "  <thead>\n",
       "    <tr style=\"text-align: right;\">\n",
       "      <th></th>\n",
       "      <th>business_id</th>\n",
       "      <th>Score</th>\n",
       "      <th>date</th>\n",
       "    </tr>\n",
       "    <tr>\n",
       "      <th>type</th>\n",
       "      <th></th>\n",
       "      <th></th>\n",
       "      <th></th>\n",
       "    </tr>\n",
       "  </thead>\n",
       "  <tbody>\n",
       "    <tr>\n",
       "      <th>Administrative or Document Review</th>\n",
       "      <td>4</td>\n",
       "      <td>0</td>\n",
       "      <td>4</td>\n",
       "    </tr>\n",
       "    <tr>\n",
       "      <th>Complaint</th>\n",
       "      <td>1634</td>\n",
       "      <td>0</td>\n",
       "      <td>1634</td>\n",
       "    </tr>\n",
       "    <tr>\n",
       "      <th>Complaint Reinspection/Followup</th>\n",
       "      <td>163</td>\n",
       "      <td>0</td>\n",
       "      <td>163</td>\n",
       "    </tr>\n",
       "    <tr>\n",
       "      <th>Foodborne Illness Investigation</th>\n",
       "      <td>100</td>\n",
       "      <td>0</td>\n",
       "      <td>100</td>\n",
       "    </tr>\n",
       "    <tr>\n",
       "      <th>Multi-agency Investigation</th>\n",
       "      <td>2</td>\n",
       "      <td>0</td>\n",
       "      <td>2</td>\n",
       "    </tr>\n",
       "    <tr>\n",
       "      <th>New Construction</th>\n",
       "      <td>1613</td>\n",
       "      <td>0</td>\n",
       "      <td>1613</td>\n",
       "    </tr>\n",
       "    <tr>\n",
       "      <th>New Ownership</th>\n",
       "      <td>1877</td>\n",
       "      <td>0</td>\n",
       "      <td>1877</td>\n",
       "    </tr>\n",
       "    <tr>\n",
       "      <th>Non-inspection site visit</th>\n",
       "      <td>840</td>\n",
       "      <td>0</td>\n",
       "      <td>840</td>\n",
       "    </tr>\n",
       "    <tr>\n",
       "      <th>Reinspection/Followup</th>\n",
       "      <td>5386</td>\n",
       "      <td>3</td>\n",
       "      <td>5386</td>\n",
       "    </tr>\n",
       "    <tr>\n",
       "      <th>Routine - Scheduled</th>\n",
       "      <td>63</td>\n",
       "      <td>0</td>\n",
       "      <td>63</td>\n",
       "    </tr>\n",
       "    <tr>\n",
       "      <th>Routine - Unscheduled</th>\n",
       "      <td>15481</td>\n",
       "      <td>15260</td>\n",
       "      <td>15481</td>\n",
       "    </tr>\n",
       "    <tr>\n",
       "      <th>Special Event</th>\n",
       "      <td>2</td>\n",
       "      <td>0</td>\n",
       "      <td>2</td>\n",
       "    </tr>\n",
       "    <tr>\n",
       "      <th>Structural Inspection</th>\n",
       "      <td>120</td>\n",
       "      <td>0</td>\n",
       "      <td>120</td>\n",
       "    </tr>\n",
       "  </tbody>\n",
       "</table>\n",
       "</div>"
      ],
      "text/plain": [
       "                                   business_id  Score   date\n",
       "type                                                        \n",
       "Administrative or Document Review            4      0      4\n",
       "Complaint                                 1634      0   1634\n",
       "Complaint Reinspection/Followup            163      0    163\n",
       "Foodborne Illness Investigation            100      0    100\n",
       "Multi-agency Investigation                   2      0      2\n",
       "New Construction                          1613      0   1613\n",
       "New Ownership                             1877      0   1877\n",
       "Non-inspection site visit                  840      0    840\n",
       "Reinspection/Followup                     5386      3   5386\n",
       "Routine - Scheduled                         63      0     63\n",
       "Routine - Unscheduled                    15481  15260  15481\n",
       "Special Event                                2      0      2\n",
       "Structural Inspection                      120      0    120"
      ]
     },
     "execution_count": 8,
     "metadata": {},
     "output_type": "execute_result"
    }
   ],
   "source": [
    "# 3 Group and count the inspections by type\n",
    "inspections.groupby(['type']).count()"
   ]
  },
  {
   "cell_type": "code",
   "execution_count": 9,
   "metadata": {},
   "outputs": [
    {
     "data": {
      "text/plain": [
       "<AxesSubplot:xlabel='month'>"
      ]
     },
     "execution_count": 9,
     "metadata": {},
     "output_type": "execute_result"
    },
    {
     "data": {
      "image/png": "[encoded data removed]",
      "text/plain": [
       "<Figure size 432x288 with 1 Axes>"
      ]
     },
     "metadata": {
      "needs_background": "light"
     },
     "output_type": "display_data"
    }
   ],
   "source": [
    "# 4 Create a plot that shows number of inspections per month\n",
    "# Bonus for creating a heatmap\n",
    "# http://stanford.edu/~mwaskom/software/seaborn/generated/seaborn.heatmap.html?highlight=heatmap\n",
    "\n",
    "inspections.dtypes\n",
    "inspections['date'] = pd.to_datetime(inspections['date'], format='%Y%m%d')\n",
    "inspections['month'] = inspections['date'].dt.month\n",
    "by_month = inspections.groupby('month').count()\n",
    "by_month\n",
    "by_month.plot.bar(y='date')\n"
   ]
  },
  {
   "cell_type": "code",
   "execution_count": 10,
   "metadata": {},
   "outputs": [
    {
     "data": {
      "text/plain": [
       "owner_zip\n",
       "94133    514\n",
       "94110    438\n",
       "94109    423\n",
       "94122    421\n",
       "94102    308\n",
       "dtype: int64"
      ]
     },
     "execution_count": 10,
     "metadata": {},
     "output_type": "execute_result"
    }
   ],
   "source": [
    "# 5 Which zip code contains the most high risk violations?\n",
    "high_risk = restaurant_scores[restaurant_scores['risk_category']=='High Risk']\n",
    "high_risk.value_counts('owner_zip').head()"
   ]
  },
  {
   "cell_type": "code",
   "execution_count": 11,
   "metadata": {},
   "outputs": [
    {
     "data": {
      "text/plain": [
       "risk_category\n",
       "Low Risk         553\n",
       "Moderate Risk    419\n",
       "High Risk        148\n",
       "dtype: int64"
      ]
     },
     "execution_count": 11,
     "metadata": {},
     "output_type": "execute_result"
    }
   ],
   "source": [
    "# 6 If inspection is prompted by a change in restaurant ownership, \n",
    "# is the inspection more likely to be categorized as higher or lower risk?\n",
    "change_own = restaurant_scores[restaurant_scores['type']=='New Ownership']\n",
    "change_own.value_counts('risk_category')"
   ]
  },
  {
   "cell_type": "code",
   "execution_count": 12,
   "metadata": {},
   "outputs": [
    {
     "data": {
      "text/plain": [
       "description\n",
       "Unclean or degraded floors walls or ceilings                          3395\n",
       "Moderate risk food holding temperature                                2621\n",
       "Inadequate and inaccessible handwashing facilities                    2444\n",
       "Unapproved or unmaintained equipment or utensils                      2335\n",
       "Wiping cloths not clean or properly stored or inadequate sanitizer    2294\n",
       "                                                                      ... \n",
       "Discharge from employee nose mouth or eye                                4\n",
       "Improperly displayed mobile food permit or signage                       2\n",
       "No restroom facility within 200 feet of mobile food facility             1\n",
       "Noncompliance with Gulf Coast oyster regulation                          1\n",
       "Noncompliance of vending machine                                         1\n",
       "Length: 69, dtype: int64"
      ]
     },
     "execution_count": 12,
     "metadata": {},
     "output_type": "execute_result"
    }
   ],
   "source": [
    "# 7 Examining the descriptions, what is the most common violation?\n",
    "violations.value_counts('description')"
   ]
  },
  {
   "cell_type": "code",
   "execution_count": 13,
   "metadata": {},
   "outputs": [
    {
     "data": {
      "text/plain": [
       "<AxesSubplot:ylabel='Frequency'>"
      ]
     },
     "execution_count": 13,
     "metadata": {},
     "output_type": "execute_result"
    },
    {
     "data": {
      "image/png": "[encoded data removed]",
      "text/plain": [
       "<Figure size 432x288 with 1 Axes>"
      ]
     },
     "metadata": {
      "needs_background": "light"
     },
     "output_type": "display_data"
    }
   ],
   "source": [
    "# 8 Create a hist of the scores with 10 bins\n",
    "\n",
    "inspections['Score'].plot.hist(bins=10)"
   ]
  },
  {
   "cell_type": "code",
   "execution_count": 14,
   "metadata": {},
   "outputs": [
    {
     "data": {
      "text/plain": [
       "<AxesSubplot:xlabel='city,risk_category'>"
      ]
     },
     "execution_count": 14,
     "metadata": {},
     "output_type": "execute_result"
    },
    {
     "data": {
      "image/png": "[encoded data removed]",
      "text/plain": [
       "<Figure size 432x288 with 1 Axes>"
      ]
     },
     "metadata": {
      "needs_background": "light"
     },
     "output_type": "display_data"
    }
   ],
   "source": [
    "# 9 Can you predict risk category based on the other features in this dataset?\n",
    "city = restaurant_scores.groupby(['city','risk_category'])['date'].count() / restaurant_scores.groupby(['city'])['date'].count()\n",
    "city.plot.bar('risk_category')\n"
   ]
  },
  {
   "cell_type": "code",
   "execution_count": 22,
   "metadata": {},
   "outputs": [
    {
     "name": "stdout",
     "output_type": "stream",
     "text": [
      "ViolationTypeID  risk_category\n",
      "103101           High Risk           6\n",
      "103102           High Risk         762\n",
      "103103           High Risk        1711\n",
      "103104           High Risk          93\n",
      "103105           High Risk         818\n",
      "                                  ... \n",
      "103172           High Risk          20\n",
      "103175           Moderate Risk       2\n",
      "103176           Moderate Risk       5\n",
      "103177           Low Risk           12\n",
      "103178           Low Risk            5\n",
      "Name: risk_category, Length: 69, dtype: int64\n"
     ]
    }
   ],
   "source": [
    "violation_id = restaurant_scores.groupby('ViolationTypeID')['risk_category'].value_counts()\n",
    "print(violation_id)\n",
    "#different violation ids are linked to different risk categories"
   ]
  },
  {
   "cell_type": "code",
   "execution_count": 34,
   "metadata": {},
   "outputs": [
    {
     "ename": "NameError",
     "evalue": "name 'inspection_type_prop' is not defined",
     "output_type": "error",
     "traceback": [
      "\u001b[1;31m---------------------------------------------------------------------------\u001b[0m",
      "\u001b[1;31mNameError\u001b[0m                                 Traceback (most recent call last)",
      "\u001b[1;32m~\\AppData\\Local\\Temp/ipykernel_26716/2992844245.py\u001b[0m in \u001b[0;36m<module>\u001b[1;34m\u001b[0m\n\u001b[0;32m      2\u001b[0m \u001b[0mtype_count\u001b[0m \u001b[1;33m=\u001b[0m \u001b[0mrestaurant_scores\u001b[0m\u001b[1;33m.\u001b[0m\u001b[0mgroupby\u001b[0m\u001b[1;33m(\u001b[0m\u001b[1;34m'type'\u001b[0m\u001b[1;33m)\u001b[0m\u001b[1;33m.\u001b[0m\u001b[0mcount\u001b[0m\u001b[1;33m(\u001b[0m\u001b[1;33m)\u001b[0m\u001b[1;33m\u001b[0m\u001b[1;33m\u001b[0m\u001b[0m\n\u001b[0;32m      3\u001b[0m \u001b[1;31m#inspection_type_prop = inspection_type.merge('type_count', on='type')\u001b[0m\u001b[1;33m\u001b[0m\u001b[1;33m\u001b[0m\u001b[0m\n\u001b[1;32m----> 4\u001b[1;33m \u001b[0mprint\u001b[0m\u001b[1;33m(\u001b[0m\u001b[0minspection_type_prop\u001b[0m\u001b[1;33m)\u001b[0m\u001b[1;33m\u001b[0m\u001b[1;33m\u001b[0m\u001b[0m\n\u001b[0m\u001b[0;32m      5\u001b[0m \u001b[0minspection_type\u001b[0m\u001b[1;33m.\u001b[0m\u001b[0mplot\u001b[0m\u001b[1;33m.\u001b[0m\u001b[0mbar\u001b[0m\u001b[1;33m(\u001b[0m\u001b[1;34m'risk_category'\u001b[0m\u001b[1;33m,\u001b[0m \u001b[0mstacked\u001b[0m\u001b[1;33m=\u001b[0m\u001b[1;32mTrue\u001b[0m\u001b[1;33m)\u001b[0m\u001b[1;33m\u001b[0m\u001b[1;33m\u001b[0m\u001b[0m\n\u001b[0;32m      6\u001b[0m \u001b[1;31m#different violation ids are linked to different risk categories\u001b[0m\u001b[1;33m\u001b[0m\u001b[1;33m\u001b[0m\u001b[0m\n",
      "\u001b[1;31mNameError\u001b[0m: name 'inspection_type_prop' is not defined"
     ]
    }
   ],
   "source": [
    "inspection_type = restaurant_scores.groupby('type')['risk_category'].value_counts()\n",
    "type_count = restaurant_scores.groupby('type').count()\n",
    "#inspection_type_prop = inspection_type.merge('type_count', on='type')\n",
    "#print(inspection_type_prop)\n",
    "inspection_type.plot.bar('risk_category', stacked=True)\n",
    "#different violation ids are linked to different risk categories"
   ]
  },
  {
   "cell_type": "code",
   "execution_count": null,
   "metadata": {
    "collapsed": true
   },
   "outputs": [],
   "source": [
    "# 10 Extra Credit:\n",
    "# Use Instagram location API to find pictures taken at the lat, long of the most High Risk restaurant\n",
    "# https://www.instagram.com/developer/endpoints/locations/"
   ]
  },
  {
   "cell_type": "code",
   "execution_count": null,
   "metadata": {
    "collapsed": true
   },
   "outputs": [],
   "source": [
    "############################\n",
    "### A Little More Morbid ###\n",
    "############################"
   ]
  },
  {
   "cell_type": "code",
   "execution_count": 51,
   "metadata": {},
   "outputs": [
    {
     "data": {
      "text/html": [
       "<div>\n",
       "<style scoped>\n",
       "    .dataframe tbody tr th:only-of-type {\n",
       "        vertical-align: middle;\n",
       "    }\n",
       "\n",
       "    .dataframe tbody tr th {\n",
       "        vertical-align: top;\n",
       "    }\n",
       "\n",
       "    .dataframe thead th {\n",
       "        text-align: right;\n",
       "    }\n",
       "</style>\n",
       "<table border=\"1\" class=\"dataframe\">\n",
       "  <thead>\n",
       "    <tr style=\"text-align: right;\">\n",
       "      <th></th>\n",
       "      <th>Unnamed: 0</th>\n",
       "      <th>name</th>\n",
       "      <th>age</th>\n",
       "      <th>gender</th>\n",
       "      <th>raceethnicity</th>\n",
       "      <th>month</th>\n",
       "      <th>day</th>\n",
       "      <th>year</th>\n",
       "      <th>streetaddress</th>\n",
       "      <th>city</th>\n",
       "      <th>state</th>\n",
       "      <th>lawenforcementagency</th>\n",
       "      <th>cause</th>\n",
       "      <th>armed</th>\n",
       "      <th>county_income</th>\n",
       "    </tr>\n",
       "  </thead>\n",
       "  <tbody>\n",
       "    <tr>\n",
       "      <th>0</th>\n",
       "      <td>0</td>\n",
       "      <td>A'donte Washington</td>\n",
       "      <td>16</td>\n",
       "      <td>Male</td>\n",
       "      <td>Black</td>\n",
       "      <td>February</td>\n",
       "      <td>23</td>\n",
       "      <td>2015</td>\n",
       "      <td>Clearview Ln</td>\n",
       "      <td>Millbrook</td>\n",
       "      <td>AL</td>\n",
       "      <td>Millbrook Police Department</td>\n",
       "      <td>Gunshot</td>\n",
       "      <td>No</td>\n",
       "      <td>54766</td>\n",
       "    </tr>\n",
       "    <tr>\n",
       "      <th>1</th>\n",
       "      <td>1</td>\n",
       "      <td>Aaron Rutledge</td>\n",
       "      <td>27</td>\n",
       "      <td>Male</td>\n",
       "      <td>White</td>\n",
       "      <td>April</td>\n",
       "      <td>2</td>\n",
       "      <td>2015</td>\n",
       "      <td>300 block Iris Park Dr</td>\n",
       "      <td>Pineville</td>\n",
       "      <td>LA</td>\n",
       "      <td>Rapides Parish Sheriff's Office</td>\n",
       "      <td>Gunshot</td>\n",
       "      <td>No</td>\n",
       "      <td>40930</td>\n",
       "    </tr>\n",
       "    <tr>\n",
       "      <th>2</th>\n",
       "      <td>2</td>\n",
       "      <td>Aaron Siler</td>\n",
       "      <td>26</td>\n",
       "      <td>Male</td>\n",
       "      <td>White</td>\n",
       "      <td>March</td>\n",
       "      <td>14</td>\n",
       "      <td>2015</td>\n",
       "      <td>22nd Ave and 56th St</td>\n",
       "      <td>Kenosha</td>\n",
       "      <td>WI</td>\n",
       "      <td>Kenosha Police Department</td>\n",
       "      <td>Gunshot</td>\n",
       "      <td>No</td>\n",
       "      <td>54930</td>\n",
       "    </tr>\n",
       "    <tr>\n",
       "      <th>3</th>\n",
       "      <td>3</td>\n",
       "      <td>Aaron Valdez</td>\n",
       "      <td>25</td>\n",
       "      <td>Male</td>\n",
       "      <td>Hispanic/Latino</td>\n",
       "      <td>March</td>\n",
       "      <td>11</td>\n",
       "      <td>2015</td>\n",
       "      <td>3000 Seminole Ave</td>\n",
       "      <td>South Gate</td>\n",
       "      <td>CA</td>\n",
       "      <td>South Gate Police Department</td>\n",
       "      <td>Gunshot</td>\n",
       "      <td>Firearm</td>\n",
       "      <td>55909</td>\n",
       "    </tr>\n",
       "    <tr>\n",
       "      <th>4</th>\n",
       "      <td>4</td>\n",
       "      <td>Adam Jovicic</td>\n",
       "      <td>29</td>\n",
       "      <td>Male</td>\n",
       "      <td>White</td>\n",
       "      <td>March</td>\n",
       "      <td>19</td>\n",
       "      <td>2015</td>\n",
       "      <td>364 Hiwood Ave</td>\n",
       "      <td>Munroe Falls</td>\n",
       "      <td>OH</td>\n",
       "      <td>Kent Police Department</td>\n",
       "      <td>Gunshot</td>\n",
       "      <td>No</td>\n",
       "      <td>49669</td>\n",
       "    </tr>\n",
       "  </tbody>\n",
       "</table>\n",
       "</div>"
      ],
      "text/plain": [
       "   Unnamed: 0                name  age gender    raceethnicity     month  day  \\\n",
       "0           0  A'donte Washington   16   Male            Black  February   23   \n",
       "1           1      Aaron Rutledge   27   Male            White     April    2   \n",
       "2           2         Aaron Siler   26   Male            White     March   14   \n",
       "3           3        Aaron Valdez   25   Male  Hispanic/Latino     March   11   \n",
       "4           4        Adam Jovicic   29   Male            White     March   19   \n",
       "\n",
       "   year           streetaddress          city state  \\\n",
       "0  2015            Clearview Ln     Millbrook    AL   \n",
       "1  2015  300 block Iris Park Dr     Pineville    LA   \n",
       "2  2015    22nd Ave and 56th St       Kenosha    WI   \n",
       "3  2015       3000 Seminole Ave    South Gate    CA   \n",
       "4  2015          364 Hiwood Ave  Munroe Falls    OH   \n",
       "\n",
       "              lawenforcementagency    cause    armed  county_income  \n",
       "0      Millbrook Police Department  Gunshot       No          54766  \n",
       "1  Rapides Parish Sheriff's Office  Gunshot       No          40930  \n",
       "2        Kenosha Police Department  Gunshot       No          54930  \n",
       "3     South Gate Police Department  Gunshot  Firearm          55909  \n",
       "4           Kent Police Department  Gunshot       No          49669  "
      ]
     },
     "execution_count": 51,
     "metadata": {},
     "output_type": "execute_result"
    }
   ],
   "source": [
    "killings = pd.read_csv('police-killings.csv')\n",
    "killings.head()"
   ]
  },
  {
   "cell_type": "code",
   "execution_count": 75,
   "metadata": {},
   "outputs": [],
   "source": [
    "# 1. Make the following changed to column names:\n",
    "# lawenforcementagency -> agency\n",
    "# raceethnicity        -> race\n",
    "\n",
    "killings = killings.rename(columns={'Lawenforcementagency' : 'agency', 'raceethnicity' : 'race'})"
   ]
  },
  {
   "cell_type": "code",
   "execution_count": 57,
   "metadata": {},
   "outputs": [
    {
     "data": {
      "text/plain": [
       "Unnamed: 0              0\n",
       "name                    0\n",
       "age                     0\n",
       "gender                  0\n",
       "raceethnicity           0\n",
       "month                   0\n",
       "day                     0\n",
       "year                    0\n",
       "streetaddress           4\n",
       "city                    0\n",
       "state                   0\n",
       "lawenforcementagency    0\n",
       "cause                   0\n",
       "armed                   0\n",
       "county_income           0\n",
       "dtype: int64"
      ]
     },
     "execution_count": 57,
     "metadata": {},
     "output_type": "execute_result"
    }
   ],
   "source": [
    "# 2. Show the count of missing values in each column\n",
    "\n",
    "killings.isnull().sum()"
   ]
  },
  {
   "cell_type": "code",
   "execution_count": 62,
   "metadata": {},
   "outputs": [
    {
     "data": {
      "text/plain": [
       "Unnamed: 0              0\n",
       "name                    0\n",
       "age                     0\n",
       "gender                  0\n",
       "raceethnicity           0\n",
       "month                   0\n",
       "day                     0\n",
       "year                    0\n",
       "streetaddress           0\n",
       "city                    0\n",
       "state                   0\n",
       "lawenforcementagency    0\n",
       "cause                   0\n",
       "armed                   0\n",
       "county_income           0\n",
       "dtype: int64"
      ]
     },
     "execution_count": 62,
     "metadata": {},
     "output_type": "execute_result"
    }
   ],
   "source": [
    "# 3. replace each null value in the dataframe with the string \"Unknown\"\n",
    "\n",
    "killings = killings.fillna('Unknown')\n",
    "killings\n",
    "killings.isnull().sum()"
   ]
  },
  {
   "cell_type": "code",
   "execution_count": 64,
   "metadata": {},
   "outputs": [
    {
     "data": {
      "text/plain": [
       "year\n",
       "2015    467\n",
       "Name: name, dtype: int64"
      ]
     },
     "execution_count": 64,
     "metadata": {},
     "output_type": "execute_result"
    }
   ],
   "source": [
    "# 4. How many killings were there so far in 2015?\n",
    "killings.groupby('year')['name'].count()"
   ]
  },
  {
   "cell_type": "code",
   "execution_count": 65,
   "metadata": {},
   "outputs": [
    {
     "data": {
      "text/plain": [
       "gender\n",
       "Female     22\n",
       "Male      445\n",
       "Name: name, dtype: int64"
      ]
     },
     "execution_count": 65,
     "metadata": {},
     "output_type": "execute_result"
    }
   ],
   "source": [
    "# 5. Of all killings, how many were male and how many female?\n",
    "\n",
    "killings.groupby('gender')['name'].count()"
   ]
  },
  {
   "cell_type": "code",
   "execution_count": 68,
   "metadata": {},
   "outputs": [
    {
     "data": {
      "text/plain": [
       "armed\n",
       "Disputed                2\n",
       "Firearm               230\n",
       "Knife                  68\n",
       "No                    102\n",
       "Non-lethal firearm     14\n",
       "Other                  26\n",
       "Unknown                 7\n",
       "Vehicle                18\n",
       "Name: name, dtype: int64"
      ]
     },
     "execution_count": 68,
     "metadata": {},
     "output_type": "execute_result"
    }
   ],
   "source": [
    "# 6. How many killings were of unarmed people?\n",
    "killings.groupby('armed')['name'].count()"
   ]
  },
  {
   "cell_type": "code",
   "execution_count": 71,
   "metadata": {},
   "outputs": [
    {
     "data": {
      "text/plain": [
       "21.841541755888652"
      ]
     },
     "execution_count": 71,
     "metadata": {},
     "output_type": "execute_result"
    }
   ],
   "source": [
    "# 7. What percentage of all killings were unarmed?\n",
    "killings[killings['armed']=='No']['name'].count() / killings['armed'].count() * 100"
   ]
  },
  {
   "cell_type": "code",
   "execution_count": 73,
   "metadata": {},
   "outputs": [
    {
     "data": {
      "text/plain": [
       "state\n",
       "CA    74\n",
       "TX    46\n",
       "FL    29\n",
       "AZ    25\n",
       "OK    22\n",
       "dtype: int64"
      ]
     },
     "execution_count": 73,
     "metadata": {},
     "output_type": "execute_result"
    }
   ],
   "source": [
    "# 8. What are the 5 states with the most killings?\n",
    "\n",
    "killings.value_counts('state').head(5)"
   ]
  },
  {
   "cell_type": "code",
   "execution_count": 76,
   "metadata": {},
   "outputs": [
    {
     "data": {
      "text/plain": [
       "race\n",
       "White                     236\n",
       "Black                     135\n",
       "Hispanic/Latino            67\n",
       "Unknown                    15\n",
       "Asian/Pacific Islander     10\n",
       "Native American             4\n",
       "dtype: int64"
      ]
     },
     "execution_count": 76,
     "metadata": {},
     "output_type": "execute_result"
    }
   ],
   "source": [
    "# 9. Show a value counts of deaths for each race\n",
    "killings.value_counts('race')"
   ]
  },
  {
   "cell_type": "code",
   "execution_count": 77,
   "metadata": {},
   "outputs": [
    {
     "data": {
      "text/plain": [
       "array([[<AxesSubplot:title={'center':'age'}>]], dtype=object)"
      ]
     },
     "execution_count": 77,
     "metadata": {},
     "output_type": "execute_result"
    },
    {
     "data": {
      "image/png": "[encoded data removed]",
      "text/plain": [
       "<Figure size 432x288 with 1 Axes>"
      ]
     },
     "metadata": {
      "needs_background": "light"
     },
     "output_type": "display_data"
    }
   ],
   "source": [
    "# 10. Display a histogram of ages of all killings\n",
    "\n",
    "killings.hist('age')"
   ]
  },
  {
   "cell_type": "code",
   "execution_count": 78,
   "metadata": {},
   "outputs": [
    {
     "data": {
      "text/plain": [
       "array([[<AxesSubplot:title={'center':'Asian/Pacific Islander'}>,\n",
       "        <AxesSubplot:title={'center':'Black'}>],\n",
       "       [<AxesSubplot:title={'center':'Hispanic/Latino'}>,\n",
       "        <AxesSubplot:title={'center':'Native American'}>],\n",
       "       [<AxesSubplot:title={'center':'Unknown'}>,\n",
       "        <AxesSubplot:title={'center':'White'}>]], dtype=object)"
      ]
     },
     "execution_count": 78,
     "metadata": {},
     "output_type": "execute_result"
    },
    {
     "data": {
      "image/png": "[encoded data removed]",
      "text/plain": [
       "<Figure size 432x288 with 6 Axes>"
      ]
     },
     "metadata": {
      "needs_background": "light"
     },
     "output_type": "display_data"
    }
   ],
   "source": [
    "# 11. Show 6 histograms of ages by race\n",
    "\n",
    "killings.hist('age', by='race')"
   ]
  },
  {
   "cell_type": "code",
   "execution_count": 81,
   "metadata": {},
   "outputs": [
    {
     "data": {
      "text/plain": [
       "race\n",
       "Asian/Pacific Islander    40.800000\n",
       "Black                     34.044444\n",
       "Hispanic/Latino           31.716418\n",
       "Native American           27.750000\n",
       "Unknown                   43.533333\n",
       "White                     40.466102\n",
       "Name: age, dtype: float64"
      ]
     },
     "execution_count": 81,
     "metadata": {},
     "output_type": "execute_result"
    }
   ],
   "source": [
    "# 12. What is the average age of death by race?\n",
    "\n",
    "killings.groupby('race')['age'].mean()"
   ]
  },
  {
   "cell_type": "code",
   "execution_count": 86,
   "metadata": {},
   "outputs": [
    {
     "data": {
      "text/plain": [
       "<AxesSubplot:xlabel='month'>"
      ]
     },
     "execution_count": 86,
     "metadata": {},
     "output_type": "execute_result"
    },
    {
     "data": {
      "image/png": "[encoded data removed]",
      "text/plain": [
       "<Figure size 432x288 with 1 Axes>"
      ]
     },
     "metadata": {
      "needs_background": "light"
     },
     "output_type": "display_data"
    }
   ],
   "source": [
    "# 13. Show a bar chart with counts of deaths every month\n",
    "\n",
    "killings_month = killings.groupby('month')['name'].count()\n",
    "killings_month.plot.bar(y='month')\n"
   ]
  },
  {
   "cell_type": "code",
   "execution_count": null,
   "metadata": {
    "collapsed": true
   },
   "outputs": [],
   "source": [
    "###################\n",
    "### Less Morbid ###\n",
    "###################"
   ]
  },
  {
   "cell_type": "code",
   "execution_count": null,
   "metadata": {},
   "outputs": [],
   "source": [
    "majors = pd.read_csv('./data/college-majors.csv')\n",
    "majors.head()"
   ]
  },
  {
   "cell_type": "code",
   "execution_count": null,
   "metadata": {
    "collapsed": true
   },
   "outputs": [],
   "source": [
    "# 1. Delete the columns (employed_full_time_year_round, major_code)"
   ]
  },
  {
   "cell_type": "code",
   "execution_count": null,
   "metadata": {
    "collapsed": true
   },
   "outputs": [],
   "source": [
    "# 2. Show the cout of missing values in each column"
   ]
  },
  {
   "cell_type": "code",
   "execution_count": null,
   "metadata": {
    "collapsed": true
   },
   "outputs": [],
   "source": [
    "# 3. What are the top 10 highest paying majors?"
   ]
  },
  {
   "cell_type": "code",
   "execution_count": null,
   "metadata": {
    "collapsed": true
   },
   "outputs": [],
   "source": [
    "# 4. Plot the data from the last question in a bar chart, include proper title, and labels!"
   ]
  },
  {
   "cell_type": "code",
   "execution_count": null,
   "metadata": {
    "collapsed": true
   },
   "outputs": [],
   "source": [
    "# 5. What is the average median salary for each major category?"
   ]
  },
  {
   "cell_type": "code",
   "execution_count": null,
   "metadata": {
    "collapsed": true
   },
   "outputs": [],
   "source": [
    "# 6. Show only the top 5 paying major categories"
   ]
  },
  {
   "cell_type": "code",
   "execution_count": null,
   "metadata": {
    "collapsed": true
   },
   "outputs": [],
   "source": [
    "# 7. Plot a histogram of the distribution of median salaries"
   ]
  },
  {
   "cell_type": "code",
   "execution_count": null,
   "metadata": {
    "collapsed": true
   },
   "outputs": [],
   "source": [
    "# 8. Plot a histogram of the distribution of median salaries by major category"
   ]
  },
  {
   "cell_type": "code",
   "execution_count": null,
   "metadata": {
    "collapsed": true
   },
   "outputs": [],
   "source": [
    "# 9. What are the top 10 most UNemployed majors?"
   ]
  },
  {
   "cell_type": "code",
   "execution_count": null,
   "metadata": {
    "collapsed": true
   },
   "outputs": [],
   "source": [
    "# What are the unemployment rates?"
   ]
  },
  {
   "cell_type": "code",
   "execution_count": null,
   "metadata": {
    "collapsed": true
   },
   "outputs": [],
   "source": [
    "# 10. What are the top 10 most UNemployed majors CATEGORIES? Use the mean for each category\n",
    "# What are the unemployment rates?"
   ]
  },
  {
   "cell_type": "code",
   "execution_count": null,
   "metadata": {
    "collapsed": true
   },
   "outputs": [],
   "source": [
    "# 11. the total and employed column refer to the people that were surveyed.\n",
    "# Create a new column showing the emlpoyment rate of the people surveyed for each major\n",
    "# call it \"sample_employment_rate\"\n",
    "# Example the first row has total: 128148 and employed: 90245. it's \n",
    "# sample_employment_rate should be 90245.0 / 128148.0 = .7042"
   ]
  },
  {
   "cell_type": "code",
   "execution_count": null,
   "metadata": {
    "collapsed": true
   },
   "outputs": [],
   "source": [
    "# 12. Create a \"sample_unemployment_rate\" column\n",
    "# this column should be 1 - \"sample_employment_rate\""
   ]
  },
  {
   "cell_type": "code",
   "execution_count": null,
   "metadata": {
    "collapsed": true
   },
   "outputs": [],
   "source": []
  }
 ],
 "metadata": {
  "anaconda-cloud": {},
  "kernelspec": {
   "display_name": "Python 3 (ipykernel)",
   "language": "python",
   "name": "python3"
  },
  "language_info": {
   "codemirror_mode": {
    "name": "ipython",
    "version": 3
   },
   "file_extension": ".py",
   "mimetype": "text/x-python",
   "name": "python",
   "nbconvert_exporter": "python",
   "pygments_lexer": "ipython3",
   "version": "3.9.7"
  }
 },
 "nbformat": 4,
 "nbformat_minor": 1
}
